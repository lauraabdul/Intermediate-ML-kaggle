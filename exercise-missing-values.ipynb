{
 "cells": [
  {
   "cell_type": "markdown",
   "id": "24abc53f",
   "metadata": {
    "papermill": {
     "duration": 0.011692,
     "end_time": "2022-06-29T16:32:22.246138",
     "exception": false,
     "start_time": "2022-06-29T16:32:22.234446",
     "status": "completed"
    },
    "tags": []
   },
   "source": [
    "**This notebook is an exercise in the [Intermediate Machine Learning](https://www.kaggle.com/learn/intermediate-machine-learning) course.  You can reference the tutorial at [this link](https://www.kaggle.com/alexisbcook/missing-values).**\n",
    "\n",
    "---\n"
   ]
  },
  {
   "cell_type": "markdown",
   "id": "f4543d8f",
   "metadata": {
    "papermill": {
     "duration": 0.011093,
     "end_time": "2022-06-29T16:32:22.268851",
     "exception": false,
     "start_time": "2022-06-29T16:32:22.257758",
     "status": "completed"
    },
    "tags": []
   },
   "source": [
    "Now it's your turn to test your new knowledge of **missing values** handling. You'll probably find it makes a big difference.\n",
    "\n",
    "# Setup\n",
    "\n",
    "The questions will give you feedback on your work. Run the following cell to set up the feedback system."
   ]
  },
  {
   "cell_type": "code",
   "execution_count": 1,
   "id": "14d589b7",
   "metadata": {
    "execution": {
     "iopub.execute_input": "2022-06-29T16:32:22.296382Z",
     "iopub.status.busy": "2022-06-29T16:32:22.295400Z",
     "iopub.status.idle": "2022-06-29T16:32:22.363426Z",
     "shell.execute_reply": "2022-06-29T16:32:22.362008Z"
    },
    "papermill": {
     "duration": 0.089154,
     "end_time": "2022-06-29T16:32:22.368476",
     "exception": false,
     "start_time": "2022-06-29T16:32:22.279322",
     "status": "completed"
    },
    "tags": []
   },
   "outputs": [
    {
     "name": "stdout",
     "output_type": "stream",
     "text": [
      "Setup Complete\n"
     ]
    }
   ],
   "source": [
    "# Set up code checking\n",
    "import os\n",
    "if not os.path.exists(\"../input/train.csv\"):\n",
    "    os.symlink(\"../input/home-data-for-ml-course/train.csv\", \"../input/train.csv\")  \n",
    "    os.symlink(\"../input/home-data-for-ml-course/test.csv\", \"../input/test.csv\") \n",
    "from learntools.core import binder\n",
    "binder.bind(globals())\n",
    "from learntools.ml_intermediate.ex2 import *\n",
    "print(\"Setup Complete\")"
   ]
  },
  {
   "cell_type": "markdown",
   "id": "445d5fc4",
   "metadata": {
    "papermill": {
     "duration": 0.010877,
     "end_time": "2022-06-29T16:32:22.390678",
     "exception": false,
     "start_time": "2022-06-29T16:32:22.379801",
     "status": "completed"
    },
    "tags": []
   },
   "source": [
    "In this exercise, you will work with data from the [Housing Prices Competition for Kaggle Learn Users](https://www.kaggle.com/c/home-data-for-ml-course). \n",
    "\n",
    "![Ames Housing dataset image](https://i.imgur.com/lTJVG4e.png)\n",
    "\n",
    "Run the next code cell without changes to load the training and validation sets in `X_train`, `X_valid`, `y_train`, and `y_valid`.  The test set is loaded in `X_test`."
   ]
  },
  {
   "cell_type": "code",
   "execution_count": 2,
   "id": "2d99f59c",
   "metadata": {
    "execution": {
     "iopub.execute_input": "2022-06-29T16:32:22.414988Z",
     "iopub.status.busy": "2022-06-29T16:32:22.414485Z",
     "iopub.status.idle": "2022-06-29T16:32:23.793417Z",
     "shell.execute_reply": "2022-06-29T16:32:23.792121Z"
    },
    "papermill": {
     "duration": 1.395369,
     "end_time": "2022-06-29T16:32:23.797146",
     "exception": false,
     "start_time": "2022-06-29T16:32:22.401777",
     "status": "completed"
    },
    "tags": []
   },
   "outputs": [],
   "source": [
    "import pandas as pd\n",
    "from sklearn.model_selection import train_test_split\n",
    "\n",
    "# Read the data\n",
    "X_full = pd.read_csv('../input/train.csv', index_col='Id')\n",
    "X_test_full = pd.read_csv('../input/test.csv', index_col='Id')\n",
    "\n",
    "# Remove rows with missing target, separate target from predictors\n",
    "X_full.dropna(axis=0, subset=['SalePrice'], inplace=True)\n",
    "y = X_full.SalePrice\n",
    "X_full.drop(['SalePrice'], axis=1, inplace=True)\n",
    "\n",
    "# To keep things simple, we'll use only numerical predictors\n",
    "X = X_full.select_dtypes(exclude=['object'])\n",
    "X_test = X_test_full.select_dtypes(exclude=['object'])\n",
    "\n",
    "# Break off validation set from training data\n",
    "X_train, X_valid, y_train, y_valid = train_test_split(X, y, train_size=0.8, test_size=0.2,\n",
    "                                                      random_state=0)"
   ]
  },
  {
   "cell_type": "markdown",
   "id": "2a5c08ff",
   "metadata": {
    "papermill": {
     "duration": 0.010462,
     "end_time": "2022-06-29T16:32:23.819477",
     "exception": false,
     "start_time": "2022-06-29T16:32:23.809015",
     "status": "completed"
    },
    "tags": []
   },
   "source": [
    "Use the next code cell to print the first five rows of the data."
   ]
  },
  {
   "cell_type": "code",
   "execution_count": 3,
   "id": "651ee154",
   "metadata": {
    "execution": {
     "iopub.execute_input": "2022-06-29T16:32:23.843043Z",
     "iopub.status.busy": "2022-06-29T16:32:23.842621Z",
     "iopub.status.idle": "2022-06-29T16:32:23.873393Z",
     "shell.execute_reply": "2022-06-29T16:32:23.871714Z"
    },
    "papermill": {
     "duration": 0.045336,
     "end_time": "2022-06-29T16:32:23.875989",
     "exception": false,
     "start_time": "2022-06-29T16:32:23.830653",
     "status": "completed"
    },
    "tags": []
   },
   "outputs": [
    {
     "data": {
      "text/html": [
       "<div>\n",
       "<style scoped>\n",
       "    .dataframe tbody tr th:only-of-type {\n",
       "        vertical-align: middle;\n",
       "    }\n",
       "\n",
       "    .dataframe tbody tr th {\n",
       "        vertical-align: top;\n",
       "    }\n",
       "\n",
       "    .dataframe thead th {\n",
       "        text-align: right;\n",
       "    }\n",
       "</style>\n",
       "<table border=\"1\" class=\"dataframe\">\n",
       "  <thead>\n",
       "    <tr style=\"text-align: right;\">\n",
       "      <th></th>\n",
       "      <th>MSSubClass</th>\n",
       "      <th>LotFrontage</th>\n",
       "      <th>LotArea</th>\n",
       "      <th>OverallQual</th>\n",
       "      <th>OverallCond</th>\n",
       "      <th>YearBuilt</th>\n",
       "      <th>YearRemodAdd</th>\n",
       "      <th>MasVnrArea</th>\n",
       "      <th>BsmtFinSF1</th>\n",
       "      <th>BsmtFinSF2</th>\n",
       "      <th>...</th>\n",
       "      <th>GarageArea</th>\n",
       "      <th>WoodDeckSF</th>\n",
       "      <th>OpenPorchSF</th>\n",
       "      <th>EnclosedPorch</th>\n",
       "      <th>3SsnPorch</th>\n",
       "      <th>ScreenPorch</th>\n",
       "      <th>PoolArea</th>\n",
       "      <th>MiscVal</th>\n",
       "      <th>MoSold</th>\n",
       "      <th>YrSold</th>\n",
       "    </tr>\n",
       "    <tr>\n",
       "      <th>Id</th>\n",
       "      <th></th>\n",
       "      <th></th>\n",
       "      <th></th>\n",
       "      <th></th>\n",
       "      <th></th>\n",
       "      <th></th>\n",
       "      <th></th>\n",
       "      <th></th>\n",
       "      <th></th>\n",
       "      <th></th>\n",
       "      <th></th>\n",
       "      <th></th>\n",
       "      <th></th>\n",
       "      <th></th>\n",
       "      <th></th>\n",
       "      <th></th>\n",
       "      <th></th>\n",
       "      <th></th>\n",
       "      <th></th>\n",
       "      <th></th>\n",
       "      <th></th>\n",
       "    </tr>\n",
       "  </thead>\n",
       "  <tbody>\n",
       "    <tr>\n",
       "      <th>619</th>\n",
       "      <td>20</td>\n",
       "      <td>90.0</td>\n",
       "      <td>11694</td>\n",
       "      <td>9</td>\n",
       "      <td>5</td>\n",
       "      <td>2007</td>\n",
       "      <td>2007</td>\n",
       "      <td>452.0</td>\n",
       "      <td>48</td>\n",
       "      <td>0</td>\n",
       "      <td>...</td>\n",
       "      <td>774</td>\n",
       "      <td>0</td>\n",
       "      <td>108</td>\n",
       "      <td>0</td>\n",
       "      <td>0</td>\n",
       "      <td>260</td>\n",
       "      <td>0</td>\n",
       "      <td>0</td>\n",
       "      <td>7</td>\n",
       "      <td>2007</td>\n",
       "    </tr>\n",
       "    <tr>\n",
       "      <th>871</th>\n",
       "      <td>20</td>\n",
       "      <td>60.0</td>\n",
       "      <td>6600</td>\n",
       "      <td>5</td>\n",
       "      <td>5</td>\n",
       "      <td>1962</td>\n",
       "      <td>1962</td>\n",
       "      <td>0.0</td>\n",
       "      <td>0</td>\n",
       "      <td>0</td>\n",
       "      <td>...</td>\n",
       "      <td>308</td>\n",
       "      <td>0</td>\n",
       "      <td>0</td>\n",
       "      <td>0</td>\n",
       "      <td>0</td>\n",
       "      <td>0</td>\n",
       "      <td>0</td>\n",
       "      <td>0</td>\n",
       "      <td>8</td>\n",
       "      <td>2009</td>\n",
       "    </tr>\n",
       "    <tr>\n",
       "      <th>93</th>\n",
       "      <td>30</td>\n",
       "      <td>80.0</td>\n",
       "      <td>13360</td>\n",
       "      <td>5</td>\n",
       "      <td>7</td>\n",
       "      <td>1921</td>\n",
       "      <td>2006</td>\n",
       "      <td>0.0</td>\n",
       "      <td>713</td>\n",
       "      <td>0</td>\n",
       "      <td>...</td>\n",
       "      <td>432</td>\n",
       "      <td>0</td>\n",
       "      <td>0</td>\n",
       "      <td>44</td>\n",
       "      <td>0</td>\n",
       "      <td>0</td>\n",
       "      <td>0</td>\n",
       "      <td>0</td>\n",
       "      <td>8</td>\n",
       "      <td>2009</td>\n",
       "    </tr>\n",
       "    <tr>\n",
       "      <th>818</th>\n",
       "      <td>20</td>\n",
       "      <td>NaN</td>\n",
       "      <td>13265</td>\n",
       "      <td>8</td>\n",
       "      <td>5</td>\n",
       "      <td>2002</td>\n",
       "      <td>2002</td>\n",
       "      <td>148.0</td>\n",
       "      <td>1218</td>\n",
       "      <td>0</td>\n",
       "      <td>...</td>\n",
       "      <td>857</td>\n",
       "      <td>150</td>\n",
       "      <td>59</td>\n",
       "      <td>0</td>\n",
       "      <td>0</td>\n",
       "      <td>0</td>\n",
       "      <td>0</td>\n",
       "      <td>0</td>\n",
       "      <td>7</td>\n",
       "      <td>2008</td>\n",
       "    </tr>\n",
       "    <tr>\n",
       "      <th>303</th>\n",
       "      <td>20</td>\n",
       "      <td>118.0</td>\n",
       "      <td>13704</td>\n",
       "      <td>7</td>\n",
       "      <td>5</td>\n",
       "      <td>2001</td>\n",
       "      <td>2002</td>\n",
       "      <td>150.0</td>\n",
       "      <td>0</td>\n",
       "      <td>0</td>\n",
       "      <td>...</td>\n",
       "      <td>843</td>\n",
       "      <td>468</td>\n",
       "      <td>81</td>\n",
       "      <td>0</td>\n",
       "      <td>0</td>\n",
       "      <td>0</td>\n",
       "      <td>0</td>\n",
       "      <td>0</td>\n",
       "      <td>1</td>\n",
       "      <td>2006</td>\n",
       "    </tr>\n",
       "  </tbody>\n",
       "</table>\n",
       "<p>5 rows × 36 columns</p>\n",
       "</div>"
      ],
      "text/plain": [
       "     MSSubClass  LotFrontage  LotArea  OverallQual  OverallCond  YearBuilt  \\\n",
       "Id                                                                           \n",
       "619          20         90.0    11694            9            5       2007   \n",
       "871          20         60.0     6600            5            5       1962   \n",
       "93           30         80.0    13360            5            7       1921   \n",
       "818          20          NaN    13265            8            5       2002   \n",
       "303          20        118.0    13704            7            5       2001   \n",
       "\n",
       "     YearRemodAdd  MasVnrArea  BsmtFinSF1  BsmtFinSF2  ...  GarageArea  \\\n",
       "Id                                                     ...               \n",
       "619          2007       452.0          48           0  ...         774   \n",
       "871          1962         0.0           0           0  ...         308   \n",
       "93           2006         0.0         713           0  ...         432   \n",
       "818          2002       148.0        1218           0  ...         857   \n",
       "303          2002       150.0           0           0  ...         843   \n",
       "\n",
       "     WoodDeckSF  OpenPorchSF  EnclosedPorch  3SsnPorch  ScreenPorch  PoolArea  \\\n",
       "Id                                                                              \n",
       "619           0          108              0          0          260         0   \n",
       "871           0            0              0          0            0         0   \n",
       "93            0            0             44          0            0         0   \n",
       "818         150           59              0          0            0         0   \n",
       "303         468           81              0          0            0         0   \n",
       "\n",
       "     MiscVal  MoSold  YrSold  \n",
       "Id                            \n",
       "619        0       7    2007  \n",
       "871        0       8    2009  \n",
       "93         0       8    2009  \n",
       "818        0       7    2008  \n",
       "303        0       1    2006  \n",
       "\n",
       "[5 rows x 36 columns]"
      ]
     },
     "execution_count": 3,
     "metadata": {},
     "output_type": "execute_result"
    }
   ],
   "source": [
    "X_train.head()"
   ]
  },
  {
   "cell_type": "markdown",
   "id": "468bb360",
   "metadata": {
    "papermill": {
     "duration": 0.010444,
     "end_time": "2022-06-29T16:32:23.897522",
     "exception": false,
     "start_time": "2022-06-29T16:32:23.887078",
     "status": "completed"
    },
    "tags": []
   },
   "source": [
    "You can already see a few missing values in the first several rows.  In the next step, you'll obtain a more comprehensive understanding of the missing values in the dataset.\n",
    "\n",
    "# Step 1: Preliminary investigation\n",
    "\n",
    "Run the code cell below without changes."
   ]
  },
  {
   "cell_type": "code",
   "execution_count": 4,
   "id": "88ba9124",
   "metadata": {
    "execution": {
     "iopub.execute_input": "2022-06-29T16:32:23.924499Z",
     "iopub.status.busy": "2022-06-29T16:32:23.923445Z",
     "iopub.status.idle": "2022-06-29T16:32:23.934415Z",
     "shell.execute_reply": "2022-06-29T16:32:23.932769Z"
    },
    "papermill": {
     "duration": 0.027895,
     "end_time": "2022-06-29T16:32:23.937592",
     "exception": false,
     "start_time": "2022-06-29T16:32:23.909697",
     "status": "completed"
    },
    "tags": []
   },
   "outputs": [
    {
     "name": "stdout",
     "output_type": "stream",
     "text": [
      "(1168, 36)\n",
      "LotFrontage    212\n",
      "MasVnrArea       6\n",
      "GarageYrBlt     58\n",
      "dtype: int64\n"
     ]
    }
   ],
   "source": [
    "# Shape of training data (num_rows, num_columns)\n",
    "print(X_train.shape)\n",
    "\n",
    "# Number of missing values in each column of training data\n",
    "missing_val_count_by_column = (X_train.isnull().sum())\n",
    "print(missing_val_count_by_column[missing_val_count_by_column > 0])\n"
   ]
  },
  {
   "cell_type": "markdown",
   "id": "c3195921",
   "metadata": {
    "papermill": {
     "duration": 0.011331,
     "end_time": "2022-06-29T16:32:23.960822",
     "exception": false,
     "start_time": "2022-06-29T16:32:23.949491",
     "status": "completed"
    },
    "tags": []
   },
   "source": [
    "### Part A\n",
    "\n",
    "Use the above output to answer the questions below."
   ]
  },
  {
   "cell_type": "code",
   "execution_count": 5,
   "id": "307a922a",
   "metadata": {
    "execution": {
     "iopub.execute_input": "2022-06-29T16:32:23.984616Z",
     "iopub.status.busy": "2022-06-29T16:32:23.984187Z",
     "iopub.status.idle": "2022-06-29T16:32:23.996714Z",
     "shell.execute_reply": "2022-06-29T16:32:23.995459Z"
    },
    "papermill": {
     "duration": 0.027233,
     "end_time": "2022-06-29T16:32:23.999159",
     "exception": false,
     "start_time": "2022-06-29T16:32:23.971926",
     "status": "completed"
    },
    "tags": []
   },
   "outputs": [
    {
     "data": {
      "application/javascript": [
       "parent.postMessage({\"jupyterEvent\": \"custom.exercise_interaction\", \"data\": {\"outcomeType\": 1, \"valueTowardsCompletion\": 1.0, \"interactionType\": 1, \"questionType\": 1, \"questionId\": \"1.1_InvestigateEquality\", \"learnToolsVersion\": \"0.3.4\", \"failureMessage\": \"\", \"exceptionClass\": \"\", \"trace\": \"\"}}, \"*\")"
      ],
      "text/plain": [
       "<IPython.core.display.Javascript object>"
      ]
     },
     "metadata": {},
     "output_type": "display_data"
    },
    {
     "data": {
      "text/markdown": [
       "<span style=\"color:#33cc33\">Correct</span>"
      ],
      "text/plain": [
       "Correct"
      ]
     },
     "metadata": {},
     "output_type": "display_data"
    }
   ],
   "source": [
    "# Fill in the line below: How many rows are in the training data?\n",
    "num_rows = X_train.shape[0]\n",
    "\n",
    "# Fill in the line below: How many columns in the training data\n",
    "# have missing values?\n",
    "num_cols_with_missing = len(missing_val_count_by_column[missing_val_count_by_column > 0])\n",
    "\n",
    "# Fill in the line below: How many missing entries are contained in \n",
    "# all of the training data?\n",
    "tot_missing = missing_val_count_by_column.sum()\n",
    "\n",
    "# Check your answers\n",
    "step_1.a.check()"
   ]
  },
  {
   "cell_type": "code",
   "execution_count": 6,
   "id": "ae89f9e1",
   "metadata": {
    "execution": {
     "iopub.execute_input": "2022-06-29T16:32:24.026082Z",
     "iopub.status.busy": "2022-06-29T16:32:24.025066Z",
     "iopub.status.idle": "2022-06-29T16:32:24.030755Z",
     "shell.execute_reply": "2022-06-29T16:32:24.029823Z"
    },
    "papermill": {
     "duration": 0.021658,
     "end_time": "2022-06-29T16:32:24.033079",
     "exception": false,
     "start_time": "2022-06-29T16:32:24.011421",
     "status": "completed"
    },
    "tags": []
   },
   "outputs": [],
   "source": [
    "# Lines below will give you a hint or solution code\n",
    "#step_1.a.hint()\n",
    "#step_1.a.solution()"
   ]
  },
  {
   "cell_type": "markdown",
   "id": "37976cef",
   "metadata": {
    "papermill": {
     "duration": 0.011359,
     "end_time": "2022-06-29T16:32:24.056413",
     "exception": false,
     "start_time": "2022-06-29T16:32:24.045054",
     "status": "completed"
    },
    "tags": []
   },
   "source": [
    "### Part B\n",
    "Considering your answers above, what do you think is likely the best approach to dealing with the missing values?"
   ]
  },
  {
   "cell_type": "code",
   "execution_count": 7,
   "id": "f6100776",
   "metadata": {
    "execution": {
     "iopub.execute_input": "2022-06-29T16:32:24.081583Z",
     "iopub.status.busy": "2022-06-29T16:32:24.080439Z",
     "iopub.status.idle": "2022-06-29T16:32:24.091556Z",
     "shell.execute_reply": "2022-06-29T16:32:24.090328Z"
    },
    "papermill": {
     "duration": 0.026284,
     "end_time": "2022-06-29T16:32:24.093968",
     "exception": false,
     "start_time": "2022-06-29T16:32:24.067684",
     "status": "completed"
    },
    "tags": []
   },
   "outputs": [
    {
     "data": {
      "application/javascript": [
       "parent.postMessage({\"jupyterEvent\": \"custom.exercise_interaction\", \"data\": {\"outcomeType\": 1, \"valueTowardsCompletion\": 1.0, \"interactionType\": 1, \"questionType\": 4, \"questionId\": \"1.2_InvestigateThought\", \"learnToolsVersion\": \"0.3.4\", \"failureMessage\": \"\", \"exceptionClass\": \"\", \"trace\": \"\"}}, \"*\")"
      ],
      "text/plain": [
       "<IPython.core.display.Javascript object>"
      ]
     },
     "metadata": {},
     "output_type": "display_data"
    },
    {
     "data": {
      "text/markdown": [
       "<span style=\"color:#33cc33\">Correct:</span> \n",
       "\n",
       "Since there are relatively few missing entries in the data (the column with the greatest percentage of missing values is missing less than 20% of its entries), we can expect that dropping columns is unlikely to yield good results.  This is because we'd be throwing away a lot of valuable data, and so imputation will likely perform better."
      ],
      "text/plain": [
       "Correct: \n",
       "\n",
       "Since there are relatively few missing entries in the data (the column with the greatest percentage of missing values is missing less than 20% of its entries), we can expect that dropping columns is unlikely to yield good results.  This is because we'd be throwing away a lot of valuable data, and so imputation will likely perform better."
      ]
     },
     "metadata": {},
     "output_type": "display_data"
    }
   ],
   "source": [
    "# Check your answer (Run this code cell to receive credit!)\n",
    "step_1.b.check()"
   ]
  },
  {
   "cell_type": "code",
   "execution_count": 8,
   "id": "3e8093eb",
   "metadata": {
    "execution": {
     "iopub.execute_input": "2022-06-29T16:32:24.119595Z",
     "iopub.status.busy": "2022-06-29T16:32:24.118454Z",
     "iopub.status.idle": "2022-06-29T16:32:24.123946Z",
     "shell.execute_reply": "2022-06-29T16:32:24.123001Z"
    },
    "papermill": {
     "duration": 0.020903,
     "end_time": "2022-06-29T16:32:24.126339",
     "exception": false,
     "start_time": "2022-06-29T16:32:24.105436",
     "status": "completed"
    },
    "tags": []
   },
   "outputs": [],
   "source": [
    "#step_1.b.hint()"
   ]
  },
  {
   "cell_type": "markdown",
   "id": "a73729c9",
   "metadata": {
    "papermill": {
     "duration": 0.011518,
     "end_time": "2022-06-29T16:32:24.149494",
     "exception": false,
     "start_time": "2022-06-29T16:32:24.137976",
     "status": "completed"
    },
    "tags": []
   },
   "source": [
    "To compare different approaches to dealing with missing values, you'll use the same `score_dataset()` function from the tutorial.  This function reports the [mean absolute error](https://en.wikipedia.org/wiki/Mean_absolute_error) (MAE) from a random forest model."
   ]
  },
  {
   "cell_type": "code",
   "execution_count": 9,
   "id": "a129810c",
   "metadata": {
    "execution": {
     "iopub.execute_input": "2022-06-29T16:32:24.175858Z",
     "iopub.status.busy": "2022-06-29T16:32:24.174982Z",
     "iopub.status.idle": "2022-06-29T16:32:24.450753Z",
     "shell.execute_reply": "2022-06-29T16:32:24.449119Z"
    },
    "papermill": {
     "duration": 0.292028,
     "end_time": "2022-06-29T16:32:24.453631",
     "exception": false,
     "start_time": "2022-06-29T16:32:24.161603",
     "status": "completed"
    },
    "tags": []
   },
   "outputs": [],
   "source": [
    "from sklearn.ensemble import RandomForestRegressor\n",
    "from sklearn.metrics import mean_absolute_error\n",
    "\n",
    "# Function for comparing different approaches\n",
    "def score_dataset(X_train, X_valid, y_train, y_valid):\n",
    "    model = RandomForestRegressor(n_estimators=100, random_state=0)\n",
    "    model.fit(X_train, y_train)\n",
    "    preds = model.predict(X_valid)\n",
    "    return mean_absolute_error(y_valid, preds)"
   ]
  },
  {
   "cell_type": "markdown",
   "id": "c83a0ec8",
   "metadata": {
    "papermill": {
     "duration": 0.011345,
     "end_time": "2022-06-29T16:32:24.476377",
     "exception": false,
     "start_time": "2022-06-29T16:32:24.465032",
     "status": "completed"
    },
    "tags": []
   },
   "source": [
    "# Step 2: Drop columns with missing values\n",
    "\n",
    "In this step, you'll preprocess the data in `X_train` and `X_valid` to remove columns with missing values.  Set the preprocessed DataFrames to `reduced_X_train` and `reduced_X_valid`, respectively.  "
   ]
  },
  {
   "cell_type": "code",
   "execution_count": 10,
   "id": "7c891c91",
   "metadata": {
    "execution": {
     "iopub.execute_input": "2022-06-29T16:32:24.501217Z",
     "iopub.status.busy": "2022-06-29T16:32:24.500706Z",
     "iopub.status.idle": "2022-06-29T16:32:24.534779Z",
     "shell.execute_reply": "2022-06-29T16:32:24.533838Z"
    },
    "papermill": {
     "duration": 0.049238,
     "end_time": "2022-06-29T16:32:24.536903",
     "exception": false,
     "start_time": "2022-06-29T16:32:24.487665",
     "status": "completed"
    },
    "tags": []
   },
   "outputs": [
    {
     "data": {
      "application/javascript": [
       "parent.postMessage({\"jupyterEvent\": \"custom.exercise_interaction\", \"data\": {\"outcomeType\": 1, \"valueTowardsCompletion\": 1.0, \"interactionType\": 1, \"questionType\": 2, \"questionId\": \"2_DropMissing\", \"learnToolsVersion\": \"0.3.4\", \"failureMessage\": \"\", \"exceptionClass\": \"\", \"trace\": \"\"}}, \"*\")"
      ],
      "text/plain": [
       "<IPython.core.display.Javascript object>"
      ]
     },
     "metadata": {},
     "output_type": "display_data"
    },
    {
     "data": {
      "text/markdown": [
       "<span style=\"color:#33cc33\">Correct</span>"
      ],
      "text/plain": [
       "Correct"
      ]
     },
     "metadata": {},
     "output_type": "display_data"
    }
   ],
   "source": [
    "# Fill in the line below: get names of columns with missing values\n",
    "cols_with_missing= [col for col in X_train.columns if X_train[col].isnull().any()]\n",
    "# Your code here\n",
    "\n",
    "# Fill in the lines below: drop columns in training and validation data\n",
    "reduced_X_train = X_train.drop(cols_with_missing,axis=1)\n",
    "reduced_X_valid = X_valid.drop(cols_with_missing,axis=1)\n",
    "\n",
    "# Check your answers\n",
    "step_2.check()"
   ]
  },
  {
   "cell_type": "code",
   "execution_count": 11,
   "id": "dd95eb51",
   "metadata": {
    "execution": {
     "iopub.execute_input": "2022-06-29T16:32:24.561814Z",
     "iopub.status.busy": "2022-06-29T16:32:24.561286Z",
     "iopub.status.idle": "2022-06-29T16:32:24.566401Z",
     "shell.execute_reply": "2022-06-29T16:32:24.565447Z"
    },
    "papermill": {
     "duration": 0.020398,
     "end_time": "2022-06-29T16:32:24.568678",
     "exception": false,
     "start_time": "2022-06-29T16:32:24.548280",
     "status": "completed"
    },
    "tags": []
   },
   "outputs": [],
   "source": [
    "# Lines below will give you a hint or solution code\n",
    "#step_2.hint()\n",
    "#step_2.solution()"
   ]
  },
  {
   "cell_type": "markdown",
   "id": "46d4f122",
   "metadata": {
    "papermill": {
     "duration": 0.0117,
     "end_time": "2022-06-29T16:32:24.592169",
     "exception": false,
     "start_time": "2022-06-29T16:32:24.580469",
     "status": "completed"
    },
    "tags": []
   },
   "source": [
    "Run the next code cell without changes to obtain the MAE for this approach."
   ]
  },
  {
   "cell_type": "code",
   "execution_count": 12,
   "id": "fbe08454",
   "metadata": {
    "execution": {
     "iopub.execute_input": "2022-06-29T16:32:24.619170Z",
     "iopub.status.busy": "2022-06-29T16:32:24.617620Z",
     "iopub.status.idle": "2022-06-29T16:32:25.785508Z",
     "shell.execute_reply": "2022-06-29T16:32:25.783808Z"
    },
    "papermill": {
     "duration": 1.18427,
     "end_time": "2022-06-29T16:32:25.788645",
     "exception": false,
     "start_time": "2022-06-29T16:32:24.604375",
     "status": "completed"
    },
    "tags": []
   },
   "outputs": [
    {
     "name": "stdout",
     "output_type": "stream",
     "text": [
      "MAE (Drop columns with missing values):\n",
      "17837.82570776256\n"
     ]
    }
   ],
   "source": [
    "print(\"MAE (Drop columns with missing values):\")\n",
    "print(score_dataset(reduced_X_train, reduced_X_valid, y_train, y_valid))"
   ]
  },
  {
   "cell_type": "markdown",
   "id": "9760f7b4",
   "metadata": {
    "papermill": {
     "duration": 0.012153,
     "end_time": "2022-06-29T16:32:25.812950",
     "exception": false,
     "start_time": "2022-06-29T16:32:25.800797",
     "status": "completed"
    },
    "tags": []
   },
   "source": [
    "# Step 3: Imputation\n",
    "\n",
    "### Part A\n",
    "\n",
    "Use the next code cell to impute missing values with the mean value along each column.  Set the preprocessed DataFrames to `imputed_X_train` and `imputed_X_valid`.  Make sure that the column names match those in `X_train` and `X_valid`."
   ]
  },
  {
   "cell_type": "code",
   "execution_count": 13,
   "id": "84d7d8db",
   "metadata": {
    "execution": {
     "iopub.execute_input": "2022-06-29T16:32:25.839912Z",
     "iopub.status.busy": "2022-06-29T16:32:25.839482Z",
     "iopub.status.idle": "2022-06-29T16:32:25.876176Z",
     "shell.execute_reply": "2022-06-29T16:32:25.874875Z"
    },
    "papermill": {
     "duration": 0.052663,
     "end_time": "2022-06-29T16:32:25.878684",
     "exception": false,
     "start_time": "2022-06-29T16:32:25.826021",
     "status": "completed"
    },
    "tags": []
   },
   "outputs": [
    {
     "data": {
      "application/javascript": [
       "parent.postMessage({\"jupyterEvent\": \"custom.exercise_interaction\", \"data\": {\"outcomeType\": 1, \"valueTowardsCompletion\": 1.0, \"interactionType\": 1, \"questionType\": 2, \"questionId\": \"3.1_ImputeCode\", \"learnToolsVersion\": \"0.3.4\", \"failureMessage\": \"\", \"exceptionClass\": \"\", \"trace\": \"\"}}, \"*\")"
      ],
      "text/plain": [
       "<IPython.core.display.Javascript object>"
      ]
     },
     "metadata": {},
     "output_type": "display_data"
    },
    {
     "data": {
      "text/markdown": [
       "<span style=\"color:#33cc33\">Correct</span>"
      ],
      "text/plain": [
       "Correct"
      ]
     },
     "metadata": {},
     "output_type": "display_data"
    }
   ],
   "source": [
    "from sklearn.impute import SimpleImputer\n",
    "\n",
    "# Fill in the lines below: imputation\n",
    "myimputer=SimpleImputer() # Your code here\n",
    "imputed_X_train = pd.DataFrame(myimputer.fit_transform(X_train))\n",
    "imputed_X_valid = pd.DataFrame(myimputer.transform(X_valid))\n",
    "\n",
    "# Fill in the lines below: imputation removed column names; put them back\n",
    "imputed_X_train.columns = X_train.columns\n",
    "imputed_X_valid.columns = X_valid.columns\n",
    "\n",
    "# Check your answers\n",
    "step_3.a.check()"
   ]
  },
  {
   "cell_type": "code",
   "execution_count": 14,
   "id": "abd4c0a0",
   "metadata": {
    "execution": {
     "iopub.execute_input": "2022-06-29T16:32:25.903880Z",
     "iopub.status.busy": "2022-06-29T16:32:25.903473Z",
     "iopub.status.idle": "2022-06-29T16:32:25.907979Z",
     "shell.execute_reply": "2022-06-29T16:32:25.906804Z"
    },
    "papermill": {
     "duration": 0.019792,
     "end_time": "2022-06-29T16:32:25.910201",
     "exception": false,
     "start_time": "2022-06-29T16:32:25.890409",
     "status": "completed"
    },
    "tags": []
   },
   "outputs": [],
   "source": [
    "# Lines below will give you a hint or solution code\n",
    "#step_3.a.hint()\n",
    "#step_3.a.solution()"
   ]
  },
  {
   "cell_type": "markdown",
   "id": "561a2445",
   "metadata": {
    "papermill": {
     "duration": 0.011459,
     "end_time": "2022-06-29T16:32:25.933432",
     "exception": false,
     "start_time": "2022-06-29T16:32:25.921973",
     "status": "completed"
    },
    "tags": []
   },
   "source": [
    "Run the next code cell without changes to obtain the MAE for this approach."
   ]
  },
  {
   "cell_type": "code",
   "execution_count": 15,
   "id": "6ea84318",
   "metadata": {
    "execution": {
     "iopub.execute_input": "2022-06-29T16:32:25.959209Z",
     "iopub.status.busy": "2022-06-29T16:32:25.958850Z",
     "iopub.status.idle": "2022-06-29T16:32:27.204616Z",
     "shell.execute_reply": "2022-06-29T16:32:27.203144Z"
    },
    "papermill": {
     "duration": 1.263304,
     "end_time": "2022-06-29T16:32:27.208581",
     "exception": false,
     "start_time": "2022-06-29T16:32:25.945277",
     "status": "completed"
    },
    "tags": []
   },
   "outputs": [
    {
     "name": "stdout",
     "output_type": "stream",
     "text": [
      "MAE (Imputation):\n",
      "18062.894611872147\n"
     ]
    }
   ],
   "source": [
    "print(\"MAE (Imputation):\")\n",
    "print(score_dataset(imputed_X_train, imputed_X_valid, y_train, y_valid))"
   ]
  },
  {
   "cell_type": "markdown",
   "id": "0df806c6",
   "metadata": {
    "papermill": {
     "duration": 0.01208,
     "end_time": "2022-06-29T16:32:27.233459",
     "exception": false,
     "start_time": "2022-06-29T16:32:27.221379",
     "status": "completed"
    },
    "tags": []
   },
   "source": [
    "### Part B\n",
    "\n",
    "Compare the MAE from each approach.  Does anything surprise you about the results?  Why do you think one approach performed better than the other?"
   ]
  },
  {
   "cell_type": "code",
   "execution_count": 16,
   "id": "20f9805e",
   "metadata": {
    "execution": {
     "iopub.execute_input": "2022-06-29T16:32:27.261106Z",
     "iopub.status.busy": "2022-06-29T16:32:27.260397Z",
     "iopub.status.idle": "2022-06-29T16:32:27.268333Z",
     "shell.execute_reply": "2022-06-29T16:32:27.267377Z"
    },
    "papermill": {
     "duration": 0.024755,
     "end_time": "2022-06-29T16:32:27.270459",
     "exception": false,
     "start_time": "2022-06-29T16:32:27.245704",
     "status": "completed"
    },
    "tags": []
   },
   "outputs": [
    {
     "data": {
      "application/javascript": [
       "parent.postMessage({\"jupyterEvent\": \"custom.exercise_interaction\", \"data\": {\"outcomeType\": 1, \"valueTowardsCompletion\": 1.0, \"interactionType\": 1, \"questionType\": 4, \"questionId\": \"3.2_ImputeThought\", \"learnToolsVersion\": \"0.3.4\", \"failureMessage\": \"\", \"exceptionClass\": \"\", \"trace\": \"\"}}, \"*\")"
      ],
      "text/plain": [
       "<IPython.core.display.Javascript object>"
      ]
     },
     "metadata": {},
     "output_type": "display_data"
    },
    {
     "data": {
      "text/markdown": [
       "<span style=\"color:#33cc33\">Correct:</span> \n",
       "\n",
       "Given that thre are so few missing values in the dataset, we'd expect imputation to perform better than dropping columns entirely.  However, we see that dropping columns performs slightly better!  While this can probably partially be attributed to noise in the dataset, another potential explanation is that the imputation method is not a great match to this dataset.  That is, maybe instead of filling in the mean value, it makes more sense to set every missing value to a value of 0, to fill in the most frequently encountered value, or to use some other method.  For instance, consider the `GarageYrBlt` column (which indicates the year that the garage was built).  It's likely that in some cases, a missing value could indicate a house that does not have a garage.  Does it make more sense to fill in the median value along each column in this case?  Or could we get better results by filling in the minimum value along each column?  It's not quite clear what's best in this case, but perhaps we can rule out some options immediately - for instance, setting missing values in this column to 0 is likely to yield horrible results!"
      ],
      "text/plain": [
       "Correct: \n",
       "\n",
       "Given that thre are so few missing values in the dataset, we'd expect imputation to perform better than dropping columns entirely.  However, we see that dropping columns performs slightly better!  While this can probably partially be attributed to noise in the dataset, another potential explanation is that the imputation method is not a great match to this dataset.  That is, maybe instead of filling in the mean value, it makes more sense to set every missing value to a value of 0, to fill in the most frequently encountered value, or to use some other method.  For instance, consider the `GarageYrBlt` column (which indicates the year that the garage was built).  It's likely that in some cases, a missing value could indicate a house that does not have a garage.  Does it make more sense to fill in the median value along each column in this case?  Or could we get better results by filling in the minimum value along each column?  It's not quite clear what's best in this case, but perhaps we can rule out some options immediately - for instance, setting missing values in this column to 0 is likely to yield horrible results!"
      ]
     },
     "metadata": {},
     "output_type": "display_data"
    }
   ],
   "source": [
    "# Check your answer (Run this code cell to receive credit!)\n",
    "step_3.b.check()"
   ]
  },
  {
   "cell_type": "code",
   "execution_count": 17,
   "id": "35a5df7c",
   "metadata": {
    "execution": {
     "iopub.execute_input": "2022-06-29T16:32:27.297755Z",
     "iopub.status.busy": "2022-06-29T16:32:27.296934Z",
     "iopub.status.idle": "2022-06-29T16:32:27.301526Z",
     "shell.execute_reply": "2022-06-29T16:32:27.300227Z"
    },
    "papermill": {
     "duration": 0.021132,
     "end_time": "2022-06-29T16:32:27.303947",
     "exception": false,
     "start_time": "2022-06-29T16:32:27.282815",
     "status": "completed"
    },
    "tags": []
   },
   "outputs": [],
   "source": [
    "#step_3.b.hint()"
   ]
  },
  {
   "cell_type": "markdown",
   "id": "a69828e8",
   "metadata": {
    "papermill": {
     "duration": 0.012973,
     "end_time": "2022-06-29T16:32:27.329800",
     "exception": false,
     "start_time": "2022-06-29T16:32:27.316827",
     "status": "completed"
    },
    "tags": []
   },
   "source": [
    "# Step 4: Generate test predictions\n",
    "\n",
    "In this final step, you'll use any approach of your choosing to deal with missing values.  Once you've preprocessed the training and validation features, you'll train and evaluate a random forest model.  Then, you'll preprocess the test data before generating predictions that can be submitted to the competition!\n",
    "\n",
    "### Part A\n",
    "\n",
    "Use the next code cell to preprocess the training and validation data.  Set the preprocessed DataFrames to `final_X_train` and `final_X_valid`.  **You can use any approach of your choosing here!**  in order for this step to be marked as correct, you need only ensure:\n",
    "- the preprocessed DataFrames have the same number of columns,\n",
    "- the preprocessed DataFrames have no missing values, \n",
    "- `final_X_train` and `y_train` have the same number of rows, and\n",
    "- `final_X_valid` and `y_valid` have the same number of rows."
   ]
  },
  {
   "cell_type": "code",
   "execution_count": 18,
   "id": "18b89b43",
   "metadata": {
    "execution": {
     "iopub.execute_input": "2022-06-29T16:32:27.358274Z",
     "iopub.status.busy": "2022-06-29T16:32:27.357848Z",
     "iopub.status.idle": "2022-06-29T16:32:28.661116Z",
     "shell.execute_reply": "2022-06-29T16:32:28.659663Z"
    },
    "papermill": {
     "duration": 1.320402,
     "end_time": "2022-06-29T16:32:28.663390",
     "exception": false,
     "start_time": "2022-06-29T16:32:27.342988",
     "status": "completed"
    },
    "tags": []
   },
   "outputs": [
    {
     "data": {
      "application/javascript": [
       "parent.postMessage({\"jupyterEvent\": \"custom.exercise_interaction\", \"data\": {\"outcomeType\": 1, \"valueTowardsCompletion\": 1.0, \"interactionType\": 1, \"questionType\": 2, \"questionId\": \"4.1_PredsCodeA\", \"learnToolsVersion\": \"0.3.4\", \"failureMessage\": \"\", \"exceptionClass\": \"\", \"trace\": \"\"}}, \"*\")"
      ],
      "text/plain": [
       "<IPython.core.display.Javascript object>"
      ]
     },
     "metadata": {},
     "output_type": "display_data"
    },
    {
     "data": {
      "text/markdown": [
       "<span style=\"color:#33cc33\">Correct</span>"
      ],
      "text/plain": [
       "Correct"
      ]
     },
     "metadata": {},
     "output_type": "display_data"
    },
    {
     "name": "stdout",
     "output_type": "stream",
     "text": [
      "17791.59899543379\n"
     ]
    }
   ],
   "source": [
    "# Preprocessed training and validation features\n",
    "imputer=SimpleImputer(strategy='median')\n",
    "final_X_train =pd.DataFrame(imputer.fit_transform(X_train))\n",
    "final_X_valid =pd.DataFrame(imputer.transform(X_valid)) \n",
    "\n",
    "final_X_train.columns = X_train.columns\n",
    "final_X_valid.columns = X_valid.columns\n",
    "# Check your answers\n",
    "step_4.a.check()\n",
    "print(score_dataset(final_X_train, final_X_valid, y_train, y_valid))"
   ]
  },
  {
   "cell_type": "code",
   "execution_count": 19,
   "id": "a3ba8e10",
   "metadata": {
    "execution": {
     "iopub.execute_input": "2022-06-29T16:32:28.690910Z",
     "iopub.status.busy": "2022-06-29T16:32:28.690273Z",
     "iopub.status.idle": "2022-06-29T16:32:28.695113Z",
     "shell.execute_reply": "2022-06-29T16:32:28.693973Z"
    },
    "papermill": {
     "duration": 0.021957,
     "end_time": "2022-06-29T16:32:28.697957",
     "exception": false,
     "start_time": "2022-06-29T16:32:28.676000",
     "status": "completed"
    },
    "tags": []
   },
   "outputs": [],
   "source": [
    "# Lines below will give you a hint or solution code\n",
    "#step_4.a.hint()\n",
    "#step_4.a.solution()"
   ]
  },
  {
   "cell_type": "markdown",
   "id": "60516dc5",
   "metadata": {
    "papermill": {
     "duration": 0.013511,
     "end_time": "2022-06-29T16:32:28.725577",
     "exception": false,
     "start_time": "2022-06-29T16:32:28.712066",
     "status": "completed"
    },
    "tags": []
   },
   "source": [
    "Run the next code cell to train and evaluate a random forest model.  (*Note that we don't use the `score_dataset()` function above, because we will soon use the trained model to generate test predictions!*)"
   ]
  },
  {
   "cell_type": "code",
   "execution_count": 20,
   "id": "1adf5267",
   "metadata": {
    "execution": {
     "iopub.execute_input": "2022-06-29T16:32:28.754810Z",
     "iopub.status.busy": "2022-06-29T16:32:28.754353Z",
     "iopub.status.idle": "2022-06-29T16:32:30.006482Z",
     "shell.execute_reply": "2022-06-29T16:32:30.004870Z"
    },
    "papermill": {
     "duration": 1.270531,
     "end_time": "2022-06-29T16:32:30.009718",
     "exception": false,
     "start_time": "2022-06-29T16:32:28.739187",
     "status": "completed"
    },
    "tags": []
   },
   "outputs": [
    {
     "name": "stdout",
     "output_type": "stream",
     "text": [
      "MAE (Your approach):\n",
      "17791.59899543379\n"
     ]
    }
   ],
   "source": [
    "# Define and fit model\n",
    "model = RandomForestRegressor(n_estimators=100, random_state=0)\n",
    "model.fit(final_X_train, y_train)\n",
    "\n",
    "# Get validation predictions and MAE\n",
    "preds_valid = model.predict(final_X_valid)\n",
    "print(\"MAE (Your approach):\")\n",
    "print(mean_absolute_error(y_valid, preds_valid))"
   ]
  },
  {
   "cell_type": "markdown",
   "id": "cedfd8c2",
   "metadata": {
    "papermill": {
     "duration": 0.013027,
     "end_time": "2022-06-29T16:32:30.036037",
     "exception": false,
     "start_time": "2022-06-29T16:32:30.023010",
     "status": "completed"
    },
    "tags": []
   },
   "source": [
    "### Part B\n",
    "\n",
    "Use the next code cell to preprocess your test data.  Make sure that you use a method that agrees with how you preprocessed the training and validation data, and set the preprocessed test features to `final_X_test`.\n",
    "\n",
    "Then, use the preprocessed test features and the trained model to generate test predictions in `preds_test`.\n",
    "\n",
    "In order for this step to be marked correct, you need only ensure:\n",
    "- the preprocessed test DataFrame has no missing values, and\n",
    "- `final_X_test` has the same number of rows as `X_test`."
   ]
  },
  {
   "cell_type": "code",
   "execution_count": 21,
   "id": "02721572",
   "metadata": {
    "execution": {
     "iopub.execute_input": "2022-06-29T16:32:30.064383Z",
     "iopub.status.busy": "2022-06-29T16:32:30.063933Z",
     "iopub.status.idle": "2022-06-29T16:32:30.142330Z",
     "shell.execute_reply": "2022-06-29T16:32:30.140838Z"
    },
    "papermill": {
     "duration": 0.096488,
     "end_time": "2022-06-29T16:32:30.145834",
     "exception": false,
     "start_time": "2022-06-29T16:32:30.049346",
     "status": "completed"
    },
    "tags": []
   },
   "outputs": [
    {
     "name": "stderr",
     "output_type": "stream",
     "text": [
      "/opt/conda/lib/python3.7/site-packages/sklearn/base.py:451: UserWarning: X does not have valid feature names, but RandomForestRegressor was fitted with feature names\n",
      "  \"X does not have valid feature names, but\"\n"
     ]
    },
    {
     "data": {
      "application/javascript": [
       "parent.postMessage({\"jupyterEvent\": \"custom.exercise_interaction\", \"data\": {\"outcomeType\": 1, \"valueTowardsCompletion\": 1.0, \"interactionType\": 1, \"questionType\": 2, \"questionId\": \"4.2_PredsCodeB\", \"learnToolsVersion\": \"0.3.4\", \"failureMessage\": \"\", \"exceptionClass\": \"\", \"trace\": \"\"}}, \"*\")"
      ],
      "text/plain": [
       "<IPython.core.display.Javascript object>"
      ]
     },
     "metadata": {},
     "output_type": "display_data"
    },
    {
     "data": {
      "text/markdown": [
       "<span style=\"color:#33cc33\">Correct</span>"
      ],
      "text/plain": [
       "Correct"
      ]
     },
     "metadata": {},
     "output_type": "display_data"
    }
   ],
   "source": [
    "# Fill in the line below: preprocess test data\n",
    "im=SimpleImputer(strategy='median')\n",
    "final_X_test = pd.DataFrame(im.fit_transform(X_test))\n",
    "\n",
    "# Fill in the line below: get test predictions\n",
    "preds_test = model.predict(final_X_test)\n",
    "\n",
    "# Check your answers\n",
    "step_4.b.check()"
   ]
  },
  {
   "cell_type": "code",
   "execution_count": 22,
   "id": "be7cc256",
   "metadata": {
    "execution": {
     "iopub.execute_input": "2022-06-29T16:32:30.175453Z",
     "iopub.status.busy": "2022-06-29T16:32:30.174979Z",
     "iopub.status.idle": "2022-06-29T16:32:30.180399Z",
     "shell.execute_reply": "2022-06-29T16:32:30.179177Z"
    },
    "papermill": {
     "duration": 0.02281,
     "end_time": "2022-06-29T16:32:30.182785",
     "exception": false,
     "start_time": "2022-06-29T16:32:30.159975",
     "status": "completed"
    },
    "tags": []
   },
   "outputs": [],
   "source": [
    "# Lines below will give you a hint or solution code\n",
    "#step_4.b.hint()\n",
    "#step_4.b.solution()"
   ]
  },
  {
   "cell_type": "markdown",
   "id": "414f07e1",
   "metadata": {
    "papermill": {
     "duration": 0.013076,
     "end_time": "2022-06-29T16:32:30.209924",
     "exception": false,
     "start_time": "2022-06-29T16:32:30.196848",
     "status": "completed"
    },
    "tags": []
   },
   "source": [
    "Run the next code cell without changes to save your results to a CSV file that can be submitted directly to the competition."
   ]
  },
  {
   "cell_type": "code",
   "execution_count": 23,
   "id": "2a572d00",
   "metadata": {
    "execution": {
     "iopub.execute_input": "2022-06-29T16:32:30.239371Z",
     "iopub.status.busy": "2022-06-29T16:32:30.237873Z",
     "iopub.status.idle": "2022-06-29T16:32:30.253003Z",
     "shell.execute_reply": "2022-06-29T16:32:30.251575Z"
    },
    "papermill": {
     "duration": 0.032761,
     "end_time": "2022-06-29T16:32:30.256016",
     "exception": false,
     "start_time": "2022-06-29T16:32:30.223255",
     "status": "completed"
    },
    "tags": []
   },
   "outputs": [],
   "source": [
    "# Save test predictions to file\n",
    "output = pd.DataFrame({'Id': X_test.index,\n",
    "                       'SalePrice': preds_test})\n",
    "output.to_csv('submission.csv', index=False)"
   ]
  },
  {
   "cell_type": "markdown",
   "id": "6d0e0daf",
   "metadata": {
    "papermill": {
     "duration": 0.01315,
     "end_time": "2022-06-29T16:32:30.282646",
     "exception": false,
     "start_time": "2022-06-29T16:32:30.269496",
     "status": "completed"
    },
    "tags": []
   },
   "source": [
    "# Submit your results\n",
    "\n",
    "Once you have successfully completed Step 4, you're ready to submit your results to the leaderboard!  (_You also learned how to do this in the previous exercise.  If you need a reminder of how to do this, please use the instructions below._)  \n",
    "\n",
    "First, you'll need to join the competition if you haven't already.  So open a new window by clicking on [this link](https://www.kaggle.com/c/home-data-for-ml-course).  Then click on the **Join Competition** button.\n",
    "\n",
    "![join competition image](https://i.imgur.com/wLmFtH3.png)\n",
    "\n",
    "Next, follow the instructions below:\n",
    "1. Begin by clicking on the **Save Version** button in the top right corner of the window.  This will generate a pop-up window.  \n",
    "2. Ensure that the **Save and Run All** option is selected, and then click on the **Save** button.\n",
    "3. This generates a window in the bottom left corner of the notebook.  After it has finished running, click on the number to the right of the **Save Version** button.  This pulls up a list of versions on the right of the screen.  Click on the ellipsis **(...)** to the right of the most recent version, and select **Open in Viewer**.  This brings you into view mode of the same page. You will need to scroll down to get back to these instructions.\n",
    "4. Click on the **Output** tab on the right of the screen.  Then, click on the file you would like to submit, and click on the **Submit** button to submit your results to the leaderboard.\n",
    "\n",
    "You have now successfully submitted to the competition!\n",
    "\n",
    "If you want to keep working to improve your performance, select the **Edit** button in the top right of the screen. Then you can change your code and repeat the process. There's a lot of room to improve, and you will climb up the leaderboard as you work.\n",
    "\n",
    "\n",
    "# Keep going\n",
    "\n",
    "Move on to learn what **[categorical variables](https://www.kaggle.com/alexisbcook/categorical-variables)** are, along with how to incorporate them into your machine learning models.  Categorical variables are very common in real-world data, but you'll get an error if you try to plug them into your models without processing them first!"
   ]
  },
  {
   "cell_type": "markdown",
   "id": "cf719ff6",
   "metadata": {
    "papermill": {
     "duration": 0.01295,
     "end_time": "2022-06-29T16:32:30.308949",
     "exception": false,
     "start_time": "2022-06-29T16:32:30.295999",
     "status": "completed"
    },
    "tags": []
   },
   "source": [
    "---\n",
    "\n",
    "\n",
    "\n",
    "\n",
    "*Have questions or comments? Visit the [course discussion forum](https://www.kaggle.com/learn/intermediate-machine-learning/discussion) to chat with other learners.*"
   ]
  }
 ],
 "metadata": {
  "kernelspec": {
   "display_name": "Python 3",
   "language": "python",
   "name": "python3"
  },
  "language_info": {
   "codemirror_mode": {
    "name": "ipython",
    "version": 3
   },
   "file_extension": ".py",
   "mimetype": "text/x-python",
   "name": "python",
   "nbconvert_exporter": "python",
   "pygments_lexer": "ipython3",
   "version": "3.7.12"
  },
  "papermill": {
   "default_parameters": {},
   "duration": 19.772843,
   "end_time": "2022-06-29T16:32:31.247981",
   "environment_variables": {},
   "exception": null,
   "input_path": "__notebook__.ipynb",
   "output_path": "__notebook__.ipynb",
   "parameters": {},
   "start_time": "2022-06-29T16:32:11.475138",
   "version": "2.3.4"
  }
 },
 "nbformat": 4,
 "nbformat_minor": 5
}
